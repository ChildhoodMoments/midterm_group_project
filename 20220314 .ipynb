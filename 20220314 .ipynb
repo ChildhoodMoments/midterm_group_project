{
 "cells": [
  {
   "cell_type": "code",
   "execution_count": 1,
   "id": "b67d757f-5e73-452f-9805-2cd254dc136d",
   "metadata": {},
   "outputs": [],
   "source": [
    "import pandas as pd"
   ]
  },
  {
   "cell_type": "code",
   "execution_count": 2,
   "id": "63d0b67d-f7bc-462f-ba34-35a49429cbcb",
   "metadata": {},
   "outputs": [],
   "source": [
    "oil_price = (pd.read_csv('data/DCOILBRENTEU.csv')\n",
    "            .assign(Date= lambda oil_price: pd.to_datetime(oil_price['Date']))\n",
    "            .assign(DCOILBRENTEU = lambda oil_price: pd.to_numeric(oil_price['DCOILBRENTEU'], errors = 'coerce')))"
   ]
  },
  {
   "cell_type": "code",
   "execution_count": 3,
   "id": "0f509d13-68cc-429f-9676-c34c4af2fdce",
   "metadata": {},
   "outputs": [],
   "source": [
    "sp500 = (pd.read_csv('data/SP500.csv')\n",
    "            .assign(Date= lambda SP500: pd.to_datetime(SP500['Date']))\n",
    "            .assign(SP500 = lambda SP500: pd.to_numeric(SP500['SP500'], errors = 'coerce')))"
   ]
  },
  {
   "cell_type": "code",
   "execution_count": 4,
   "id": "a10f8a5a-5a04-43da-bb1e-944b51603a04",
   "metadata": {},
   "outputs": [],
   "source": [
    "tsla =  (pd.read_csv('data/TSLA.csv')\n",
    "        .assign(Date= lambda tsla: pd.to_datetime(tsla['Date'])))"
   ]
  },
  {
   "cell_type": "code",
   "execution_count": 5,
   "id": "d1480086-db33-492f-b0b0-150557b7a592",
   "metadata": {},
   "outputs": [],
   "source": [
    "nvda = (pd.read_csv('data/NVDA.csv')\n",
    "       .assign(Date = lambda nvda: pd.to_datetime(nvda['Date'])))"
   ]
  },
  {
   "cell_type": "code",
   "execution_count": 6,
   "id": "96f13987-00b4-497f-b2d7-1b5276fa5a23",
   "metadata": {},
   "outputs": [],
   "source": [
    "oil_sp = pd.merge(oil_price, sp500, on= ['Date'])"
   ]
  },
  {
   "cell_type": "code",
   "execution_count": 7,
   "id": "7f06eee8-8c4a-4058-8f22-e0ec5aea1faa",
   "metadata": {},
   "outputs": [],
   "source": [
    "oil_sp_nvda = pd.merge(oil_sp,nvda, on = ['Date'])"
   ]
  },
  {
   "cell_type": "code",
   "execution_count": 8,
   "id": "5ca80071-ee6c-452e-96e6-76621ab795f9",
   "metadata": {},
   "outputs": [],
   "source": [
    "oil_sp_nvda_tsla = pd.merge(oil_sp_nvda, tsla, on = ['Date'], suffixes=(\"_nvda\", \"_tsla\")).set_index(['Date'])"
   ]
  },
  {
   "cell_type": "code",
   "execution_count": 9,
   "id": "d58693ad-1e87-4eb0-8e9f-0c5122280f9f",
   "metadata": {},
   "outputs": [
    {
     "data": {
      "text/html": [
       "<div>\n",
       "<style scoped>\n",
       "    .dataframe tbody tr th:only-of-type {\n",
       "        vertical-align: middle;\n",
       "    }\n",
       "\n",
       "    .dataframe tbody tr th {\n",
       "        vertical-align: top;\n",
       "    }\n",
       "\n",
       "    .dataframe thead th {\n",
       "        text-align: right;\n",
       "    }\n",
       "</style>\n",
       "<table border=\"1\" class=\"dataframe\">\n",
       "  <thead>\n",
       "    <tr style=\"text-align: right;\">\n",
       "      <th></th>\n",
       "      <th>DCOILBRENTEU</th>\n",
       "      <th>SP500</th>\n",
       "      <th>Open_nvda</th>\n",
       "      <th>High_nvda</th>\n",
       "      <th>Low_nvda</th>\n",
       "      <th>Close_nvda</th>\n",
       "      <th>Adj Close_nvda</th>\n",
       "      <th>Volume_nvda</th>\n",
       "      <th>Open_tsla</th>\n",
       "      <th>High_tsla</th>\n",
       "      <th>Low_tsla</th>\n",
       "      <th>Close_tsla</th>\n",
       "      <th>Adj Close_tsla</th>\n",
       "      <th>Volume_tsla</th>\n",
       "    </tr>\n",
       "  </thead>\n",
       "  <tbody>\n",
       "    <tr>\n",
       "      <th>count</th>\n",
       "      <td>515.000000</td>\n",
       "      <td>523.000000</td>\n",
       "      <td>523.000000</td>\n",
       "      <td>523.000000</td>\n",
       "      <td>523.000000</td>\n",
       "      <td>523.000000</td>\n",
       "      <td>523.000000</td>\n",
       "      <td>5.230000e+02</td>\n",
       "      <td>523.000000</td>\n",
       "      <td>523.000000</td>\n",
       "      <td>523.000000</td>\n",
       "      <td>523.000000</td>\n",
       "      <td>523.000000</td>\n",
       "      <td>5.230000e+02</td>\n",
       "    </tr>\n",
       "    <tr>\n",
       "      <th>mean</th>\n",
       "      <td>58.614757</td>\n",
       "      <td>3820.141185</td>\n",
       "      <td>158.267375</td>\n",
       "      <td>161.222017</td>\n",
       "      <td>155.034637</td>\n",
       "      <td>158.254680</td>\n",
       "      <td>158.132905</td>\n",
       "      <td>4.349079e+07</td>\n",
       "      <td>582.298934</td>\n",
       "      <td>595.792500</td>\n",
       "      <td>567.663079</td>\n",
       "      <td>582.427685</td>\n",
       "      <td>582.427685</td>\n",
       "      <td>4.784043e+07</td>\n",
       "    </tr>\n",
       "    <tr>\n",
       "      <th>std</th>\n",
       "      <td>19.850028</td>\n",
       "      <td>623.589505</td>\n",
       "      <td>69.189818</td>\n",
       "      <td>70.665761</td>\n",
       "      <td>67.272024</td>\n",
       "      <td>68.905262</td>\n",
       "      <td>68.941160</td>\n",
       "      <td>2.124735e+07</td>\n",
       "      <td>297.072621</td>\n",
       "      <td>303.236455</td>\n",
       "      <td>289.903597</td>\n",
       "      <td>296.732384</td>\n",
       "      <td>296.732384</td>\n",
       "      <td>3.611740e+07</td>\n",
       "    </tr>\n",
       "    <tr>\n",
       "      <th>min</th>\n",
       "      <td>9.100000</td>\n",
       "      <td>2237.400000</td>\n",
       "      <td>50.025002</td>\n",
       "      <td>52.485001</td>\n",
       "      <td>45.169998</td>\n",
       "      <td>49.099998</td>\n",
       "      <td>48.997280</td>\n",
       "      <td>9.788400e+06</td>\n",
       "      <td>74.940002</td>\n",
       "      <td>80.972000</td>\n",
       "      <td>70.101997</td>\n",
       "      <td>72.244003</td>\n",
       "      <td>72.244003</td>\n",
       "      <td>9.800600e+06</td>\n",
       "    </tr>\n",
       "    <tr>\n",
       "      <th>25%</th>\n",
       "      <td>42.600000</td>\n",
       "      <td>3335.080000</td>\n",
       "      <td>112.782501</td>\n",
       "      <td>113.899998</td>\n",
       "      <td>109.978748</td>\n",
       "      <td>112.572498</td>\n",
       "      <td>112.388263</td>\n",
       "      <td>2.716800e+07</td>\n",
       "      <td>321.000000</td>\n",
       "      <td>330.117996</td>\n",
       "      <td>297.800003</td>\n",
       "      <td>312.311996</td>\n",
       "      <td>312.311996</td>\n",
       "      <td>2.338600e+07</td>\n",
       "    </tr>\n",
       "    <tr>\n",
       "      <th>50%</th>\n",
       "      <td>61.200000</td>\n",
       "      <td>3871.740000</td>\n",
       "      <td>137.399994</td>\n",
       "      <td>138.845001</td>\n",
       "      <td>134.589996</td>\n",
       "      <td>136.532501</td>\n",
       "      <td>136.390121</td>\n",
       "      <td>3.789000e+07</td>\n",
       "      <td>641.869995</td>\n",
       "      <td>654.320007</td>\n",
       "      <td>620.549988</td>\n",
       "      <td>643.380005</td>\n",
       "      <td>643.380005</td>\n",
       "      <td>3.435170e+07</td>\n",
       "    </tr>\n",
       "    <tr>\n",
       "      <th>75%</th>\n",
       "      <td>73.650000</td>\n",
       "      <td>4384.640000</td>\n",
       "      <td>205.139999</td>\n",
       "      <td>207.875000</td>\n",
       "      <td>202.488754</td>\n",
       "      <td>205.769996</td>\n",
       "      <td>205.691558</td>\n",
       "      <td>5.626600e+07</td>\n",
       "      <td>779.445007</td>\n",
       "      <td>796.010010</td>\n",
       "      <td>769.994995</td>\n",
       "      <td>781.304993</td>\n",
       "      <td>781.304993</td>\n",
       "      <td>6.314155e+07</td>\n",
       "    </tr>\n",
       "    <tr>\n",
       "      <th>max</th>\n",
       "      <td>103.100000</td>\n",
       "      <td>4796.560000</td>\n",
       "      <td>335.170013</td>\n",
       "      <td>346.470001</td>\n",
       "      <td>320.359985</td>\n",
       "      <td>333.760010</td>\n",
       "      <td>333.662292</td>\n",
       "      <td>1.463684e+08</td>\n",
       "      <td>1234.410034</td>\n",
       "      <td>1243.489990</td>\n",
       "      <td>1217.000000</td>\n",
       "      <td>1229.910034</td>\n",
       "      <td>1229.910034</td>\n",
       "      <td>3.046940e+08</td>\n",
       "    </tr>\n",
       "  </tbody>\n",
       "</table>\n",
       "</div>"
      ],
      "text/plain": [
       "       DCOILBRENTEU        SP500   Open_nvda   High_nvda    Low_nvda  \\\n",
       "count    515.000000   523.000000  523.000000  523.000000  523.000000   \n",
       "mean      58.614757  3820.141185  158.267375  161.222017  155.034637   \n",
       "std       19.850028   623.589505   69.189818   70.665761   67.272024   \n",
       "min        9.100000  2237.400000   50.025002   52.485001   45.169998   \n",
       "25%       42.600000  3335.080000  112.782501  113.899998  109.978748   \n",
       "50%       61.200000  3871.740000  137.399994  138.845001  134.589996   \n",
       "75%       73.650000  4384.640000  205.139999  207.875000  202.488754   \n",
       "max      103.100000  4796.560000  335.170013  346.470001  320.359985   \n",
       "\n",
       "       Close_nvda  Adj Close_nvda   Volume_nvda    Open_tsla    High_tsla  \\\n",
       "count  523.000000      523.000000  5.230000e+02   523.000000   523.000000   \n",
       "mean   158.254680      158.132905  4.349079e+07   582.298934   595.792500   \n",
       "std     68.905262       68.941160  2.124735e+07   297.072621   303.236455   \n",
       "min     49.099998       48.997280  9.788400e+06    74.940002    80.972000   \n",
       "25%    112.572498      112.388263  2.716800e+07   321.000000   330.117996   \n",
       "50%    136.532501      136.390121  3.789000e+07   641.869995   654.320007   \n",
       "75%    205.769996      205.691558  5.626600e+07   779.445007   796.010010   \n",
       "max    333.760010      333.662292  1.463684e+08  1234.410034  1243.489990   \n",
       "\n",
       "          Low_tsla   Close_tsla  Adj Close_tsla   Volume_tsla  \n",
       "count   523.000000   523.000000      523.000000  5.230000e+02  \n",
       "mean    567.663079   582.427685      582.427685  4.784043e+07  \n",
       "std     289.903597   296.732384      296.732384  3.611740e+07  \n",
       "min      70.101997    72.244003       72.244003  9.800600e+06  \n",
       "25%     297.800003   312.311996      312.311996  2.338600e+07  \n",
       "50%     620.549988   643.380005      643.380005  3.435170e+07  \n",
       "75%     769.994995   781.304993      781.304993  6.314155e+07  \n",
       "max    1217.000000  1229.910034     1229.910034  3.046940e+08  "
      ]
     },
     "execution_count": 9,
     "metadata": {},
     "output_type": "execute_result"
    }
   ],
   "source": [
    "# after merge our dataset, we firstly oversee the summary for two company's stock:\n",
    "oil_sp_nvda_tsla.loc['2020-02':'2022-02'].describe()\n",
    "# We can clearly see that Tesla stock has more volatility, based on the closing price, \n",
    "# Although its minimum closing price is almots as same as NVDA's price, but more invester choose them during\n",
    "# the period after pandemic."
   ]
  },
  {
   "cell_type": "code",
   "execution_count": 10,
   "id": "bcdf50e7-1d89-4273-83c5-ad4b33655a42",
   "metadata": {},
   "outputs": [],
   "source": [
    "# the range for the oil price, SP500 and two stocks prices are big, we can estimate that during the pandemic,\n",
    "# both of them exprienced a huge flactulation. \n",
    "# Next, We use line charts to more intuitively see their trends before and after the epidemic."
   ]
  },
  {
   "cell_type": "code",
   "execution_count": 11,
   "id": "d8ebe2e8-bbe3-4cac-a822-1da45161edaa",
   "metadata": {},
   "outputs": [
    {
     "data": {
      "text/plain": [
       "<matplotlib.legend.Legend at 0x7f029d8b9b90>"
      ]
     },
     "execution_count": 11,
     "metadata": {},
     "output_type": "execute_result"
    },
    {
     "data": {
      "image/png": "[encoded data removed]",
      "text/plain": [
       "<Figure size 432x288 with 1 Axes>"
      ]
     },
     "metadata": {
      "needs_background": "light"
     },
     "output_type": "display_data"
    }
   ],
   "source": [
    "# \n",
    "oil_sp_nvda_tsla.loc['2020-02' : '2022-02', 'Close_nvda'].plot()\n",
    "oil_sp_nvda_tsla.loc['2019-01' : '2020-01', 'Close_nvda'].plot(title = 'NVDA stock price').legend(['after pandemic', 'before pandemic'])"
   ]
  },
  {
   "cell_type": "code",
   "execution_count": 12,
   "id": "c6f49b17-2660-41eb-9280-67194fa6a05d",
   "metadata": {},
   "outputs": [
    {
     "data": {
      "text/plain": [
       "<matplotlib.legend.Legend at 0x7f0292bb4d10>"
      ]
     },
     "execution_count": 12,
     "metadata": {},
     "output_type": "execute_result"
    },
    {
     "data": {
      "image/png": "[encoded data removed]",
      "text/plain": [
       "<Figure size 432x288 with 1 Axes>"
      ]
     },
     "metadata": {
      "needs_background": "light"
     },
     "output_type": "display_data"
    }
   ],
   "source": [
    "oil_sp_nvda_tsla.loc['2020-02' : '2022-02', 'Close_tsla'].plot()\n",
    "oil_sp_nvda_tsla.loc['2019-01' : '2020-01', 'Close_tsla'].plot(title = 'TSLA stock price').legend(['after pandemic', 'before pandemic'])\n"
   ]
  },
  {
   "cell_type": "code",
   "execution_count": 13,
   "id": "4ec30ce4-5fb3-495b-ac01-fe5f805dccc6",
   "metadata": {},
   "outputs": [
    {
     "data": {
      "text/plain": [
       "<matplotlib.legend.Legend at 0x7f0292b30310>"
      ]
     },
     "execution_count": 13,
     "metadata": {},
     "output_type": "execute_result"
    },
    {
     "data": {
      "image/png": "[encoded data removed]",
      "text/plain": [
       "<Figure size 432x288 with 1 Axes>"
      ]
     },
     "metadata": {
      "needs_background": "light"
     },
     "output_type": "display_data"
    }
   ],
   "source": [
    "oil_sp_nvda_tsla.loc['2020-02' : '2022-02', 'DCOILBRENTEU'].plot()\n",
    "oil_sp_nvda_tsla.loc['2019-01' : '2020-01', 'DCOILBRENTEU'].plot(title = 'oil price').legend(['after pandemic', 'before pandemic'])\n"
   ]
  },
  {
   "cell_type": "code",
   "execution_count": 14,
   "id": "6a94c887-596e-4e50-9b9e-5d32ef1d0b77",
   "metadata": {},
   "outputs": [
    {
     "data": {
      "text/plain": [
       "<matplotlib.legend.Legend at 0x7f0292ab6f90>"
      ]
     },
     "execution_count": 14,
     "metadata": {},
     "output_type": "execute_result"
    },
    {
     "data": {
      "image/png": "[encoded data removed]",
      "text/plain": [
       "<Figure size 432x288 with 1 Axes>"
      ]
     },
     "metadata": {
      "needs_background": "light"
     },
     "output_type": "display_data"
    }
   ],
   "source": [
    "oil_sp_nvda_tsla.loc['2020-02' : '2022-02', 'SP500'].plot()\n",
    "oil_sp_nvda_tsla.loc['2019-01' : '2020-01', 'SP500'].plot(title = 'SP500 price index').legend(['after pandemic', 'before pandemic'])\n"
   ]
  },
  {
   "cell_type": "code",
   "execution_count": 15,
   "id": "f034fb42-e86b-42b1-8d02-2e3e2529c485",
   "metadata": {},
   "outputs": [],
   "source": [
    "# now we can see that after pandemic, the stock prices of these two high-tech companies have soared. \n",
    "# We will conduct in-depth research on the impact of the pandemic on the development of traditional industrial products \n",
    "# and high-tech enterprises.\n",
    "\n",
    "# Because the bases number of each indicator are different, we will analyze the growth rate of each indicator before and after the epidemic, \n",
    "# and use a simple econometric model to analyze the impact of oil prices and SP500 on these two stocks."
   ]
  },
  {
   "cell_type": "code",
   "execution_count": 16,
   "id": "12a9835c-bbda-4805-a7e3-7fb9f15259fb",
   "metadata": {},
   "outputs": [],
   "source": [
    "# we first construct a new dataset"
   ]
  },
  {
   "cell_type": "code",
   "execution_count": 17,
   "id": "dc4ee694-c060-4e4d-8fdc-a190b52c0b58",
   "metadata": {},
   "outputs": [],
   "source": [
    "stock_price_anal = oil_sp_nvda_tsla[['Close_nvda', 'Close_tsla', 'DCOILBRENTEU', 'SP500']].dropna()"
   ]
  },
  {
   "cell_type": "code",
   "execution_count": 18,
   "id": "f8795205-ed84-4ffd-a7fe-78c2b86cbe48",
   "metadata": {},
   "outputs": [
    {
     "data": {
      "text/html": [
       "<div>\n",
       "<style scoped>\n",
       "    .dataframe tbody tr th:only-of-type {\n",
       "        vertical-align: middle;\n",
       "    }\n",
       "\n",
       "    .dataframe tbody tr th {\n",
       "        vertical-align: top;\n",
       "    }\n",
       "\n",
       "    .dataframe thead th {\n",
       "        text-align: right;\n",
       "    }\n",
       "</style>\n",
       "<table border=\"1\" class=\"dataframe\">\n",
       "  <thead>\n",
       "    <tr style=\"text-align: right;\">\n",
       "      <th></th>\n",
       "      <th>Close_nvda</th>\n",
       "      <th>Close_tsla</th>\n",
       "      <th>DCOILBRENTEU</th>\n",
       "      <th>SP500</th>\n",
       "    </tr>\n",
       "    <tr>\n",
       "      <th>Date</th>\n",
       "      <th></th>\n",
       "      <th></th>\n",
       "      <th></th>\n",
       "      <th></th>\n",
       "    </tr>\n",
       "  </thead>\n",
       "  <tbody>\n",
       "  </tbody>\n",
       "</table>\n",
       "</div>"
      ],
      "text/plain": [
       "Empty DataFrame\n",
       "Columns: [Close_nvda, Close_tsla, DCOILBRENTEU, SP500]\n",
       "Index: []"
      ]
     },
     "execution_count": 18,
     "metadata": {},
     "output_type": "execute_result"
    }
   ],
   "source": [
    "# double check it there any NAN value in the table\n",
    "stock_price_anal[stock_price_anal.isnull().any(axis=1)]"
   ]
  },
  {
   "cell_type": "code",
   "execution_count": 19,
   "id": "c13953ba-ae52-42a5-abda-aa139bba12a0",
   "metadata": {},
   "outputs": [],
   "source": [
    "# Because the stock price fluctuates greatly in a single day, I choose to perform a moving average based on the time period of 14 days.\n",
    "# stock_price_anal['tsla_ma14'] = stock_price_anal['Close_tsla'].rolling(14).mean()\n",
    "# stock_price_anal['nvda_ma14'] = stock_price_anal['Close_nvda'].rolling(14).mean()\n",
    "# stock_price_anal"
   ]
  },
  {
   "cell_type": "code",
   "execution_count": 20,
   "id": "1fa128e1-cc39-4823-8045-6e9f3d3017c1",
   "metadata": {},
   "outputs": [],
   "source": [
    "# stock_price_anal.loc['2020-02' : '2022-02', 'Close_tsla'].plot()\n",
    "# stock_price_anal.loc['2020-02' : '2022-02', 'tsla_ma14'].plot().legend(['after MA', 'before MA'])\n",
    "# stock_price_anal.loc['2020-02' : '2022-02', 'Close_nvda'].plot()\n",
    "# stock_price_anal.loc['2020-02' : '2022-02', 'nvda_ma14'].plot().legend(['after MA', 'before MA'])\n"
   ]
  },
  {
   "cell_type": "code",
   "execution_count": 21,
   "id": "baa24b56-6d11-4119-b5dd-31ae1ae3c845",
   "metadata": {},
   "outputs": [],
   "source": [
    "# mutate variables for calculating growth rates\n",
    "stock_price_anal['growth_nvda'] =  stock_price_anal['Close_nvda'].pct_change()*100\n",
    "stock_price_anal['growth_tsla'] =  stock_price_anal['Close_tsla'].pct_change()*100\n",
    "stock_price_anal['growth_oil_price'] =  stock_price_anal['DCOILBRENTEU'].pct_change()*100\n",
    "stock_price_anal['growth_sp'] =  stock_price_anal['SP500'].pct_change()*100\n",
    "\n"
   ]
  },
  {
   "cell_type": "code",
   "execution_count": 22,
   "id": "746ed558-474b-4467-b68d-b59c7b923092",
   "metadata": {},
   "outputs": [
    {
     "data": {
      "text/html": [
       "<div>\n",
       "<style scoped>\n",
       "    .dataframe tbody tr th:only-of-type {\n",
       "        vertical-align: middle;\n",
       "    }\n",
       "\n",
       "    .dataframe tbody tr th {\n",
       "        vertical-align: top;\n",
       "    }\n",
       "\n",
       "    .dataframe thead th {\n",
       "        text-align: right;\n",
       "    }\n",
       "</style>\n",
       "<table border=\"1\" class=\"dataframe\">\n",
       "  <thead>\n",
       "    <tr style=\"text-align: right;\">\n",
       "      <th></th>\n",
       "      <th>Close_nvda</th>\n",
       "      <th>Close_tsla</th>\n",
       "      <th>DCOILBRENTEU</th>\n",
       "      <th>SP500</th>\n",
       "      <th>growth_nvda</th>\n",
       "      <th>growth_tsla</th>\n",
       "      <th>growth_oil_price</th>\n",
       "      <th>growth_sp</th>\n",
       "    </tr>\n",
       "    <tr>\n",
       "      <th>Date</th>\n",
       "      <th></th>\n",
       "      <th></th>\n",
       "      <th></th>\n",
       "      <th></th>\n",
       "      <th></th>\n",
       "      <th></th>\n",
       "      <th></th>\n",
       "      <th></th>\n",
       "    </tr>\n",
       "  </thead>\n",
       "  <tbody>\n",
       "    <tr>\n",
       "      <th>2019-01-02</th>\n",
       "      <td>34.055000</td>\n",
       "      <td>62.023998</td>\n",
       "      <td>54.1</td>\n",
       "      <td>2510.03</td>\n",
       "      <td>NaN</td>\n",
       "      <td>NaN</td>\n",
       "      <td>NaN</td>\n",
       "      <td>NaN</td>\n",
       "    </tr>\n",
       "    <tr>\n",
       "      <th>2019-01-03</th>\n",
       "      <td>31.997499</td>\n",
       "      <td>60.071999</td>\n",
       "      <td>53.2</td>\n",
       "      <td>2447.89</td>\n",
       "      <td>-6.041700</td>\n",
       "      <td>-3.147167</td>\n",
       "      <td>-1.663586</td>\n",
       "      <td>-2.475668</td>\n",
       "    </tr>\n",
       "    <tr>\n",
       "      <th>2019-01-04</th>\n",
       "      <td>34.047501</td>\n",
       "      <td>63.537998</td>\n",
       "      <td>55.6</td>\n",
       "      <td>2531.94</td>\n",
       "      <td>6.406757</td>\n",
       "      <td>5.769741</td>\n",
       "      <td>4.511278</td>\n",
       "      <td>3.433569</td>\n",
       "    </tr>\n",
       "    <tr>\n",
       "      <th>2019-01-07</th>\n",
       "      <td>35.849998</td>\n",
       "      <td>66.991997</td>\n",
       "      <td>57.1</td>\n",
       "      <td>2549.69</td>\n",
       "      <td>5.294065</td>\n",
       "      <td>5.436116</td>\n",
       "      <td>2.697842</td>\n",
       "      <td>0.701043</td>\n",
       "    </tr>\n",
       "    <tr>\n",
       "      <th>2019-01-08</th>\n",
       "      <td>34.957500</td>\n",
       "      <td>67.070000</td>\n",
       "      <td>56.9</td>\n",
       "      <td>2574.41</td>\n",
       "      <td>-2.489534</td>\n",
       "      <td>0.116436</td>\n",
       "      <td>-0.350263</td>\n",
       "      <td>0.969530</td>\n",
       "    </tr>\n",
       "    <tr>\n",
       "      <th>...</th>\n",
       "      <td>...</td>\n",
       "      <td>...</td>\n",
       "      <td>...</td>\n",
       "      <td>...</td>\n",
       "      <td>...</td>\n",
       "      <td>...</td>\n",
       "      <td>...</td>\n",
       "      <td>...</td>\n",
       "    </tr>\n",
       "    <tr>\n",
       "      <th>2022-02-23</th>\n",
       "      <td>223.869995</td>\n",
       "      <td>764.039978</td>\n",
       "      <td>99.3</td>\n",
       "      <td>4225.50</td>\n",
       "      <td>-4.288157</td>\n",
       "      <td>-6.997924</td>\n",
       "      <td>0.607903</td>\n",
       "      <td>-1.841218</td>\n",
       "    </tr>\n",
       "    <tr>\n",
       "      <th>2022-02-24</th>\n",
       "      <td>237.479996</td>\n",
       "      <td>800.770020</td>\n",
       "      <td>101.3</td>\n",
       "      <td>4288.70</td>\n",
       "      <td>6.079422</td>\n",
       "      <td>4.807346</td>\n",
       "      <td>2.014099</td>\n",
       "      <td>1.495681</td>\n",
       "    </tr>\n",
       "    <tr>\n",
       "      <th>2022-02-25</th>\n",
       "      <td>241.570007</td>\n",
       "      <td>809.869995</td>\n",
       "      <td>98.6</td>\n",
       "      <td>4384.65</td>\n",
       "      <td>1.722255</td>\n",
       "      <td>1.136403</td>\n",
       "      <td>-2.665350</td>\n",
       "      <td>2.237275</td>\n",
       "    </tr>\n",
       "    <tr>\n",
       "      <th>2022-02-28</th>\n",
       "      <td>243.850006</td>\n",
       "      <td>870.429993</td>\n",
       "      <td>103.1</td>\n",
       "      <td>4373.94</td>\n",
       "      <td>0.943825</td>\n",
       "      <td>7.477743</td>\n",
       "      <td>4.563895</td>\n",
       "      <td>-0.244261</td>\n",
       "    </tr>\n",
       "    <tr>\n",
       "      <th>2022-03-01</th>\n",
       "      <td>234.770004</td>\n",
       "      <td>864.369995</td>\n",
       "      <td>110.9</td>\n",
       "      <td>4306.26</td>\n",
       "      <td>-3.723601</td>\n",
       "      <td>-0.696207</td>\n",
       "      <td>7.565470</td>\n",
       "      <td>-1.547346</td>\n",
       "    </tr>\n",
       "  </tbody>\n",
       "</table>\n",
       "<p>789 rows × 8 columns</p>\n",
       "</div>"
      ],
      "text/plain": [
       "            Close_nvda  Close_tsla  DCOILBRENTEU    SP500  growth_nvda  \\\n",
       "Date                                                                     \n",
       "2019-01-02   34.055000   62.023998          54.1  2510.03          NaN   \n",
       "2019-01-03   31.997499   60.071999          53.2  2447.89    -6.041700   \n",
       "2019-01-04   34.047501   63.537998          55.6  2531.94     6.406757   \n",
       "2019-01-07   35.849998   66.991997          57.1  2549.69     5.294065   \n",
       "2019-01-08   34.957500   67.070000          56.9  2574.41    -2.489534   \n",
       "...                ...         ...           ...      ...          ...   \n",
       "2022-02-23  223.869995  764.039978          99.3  4225.50    -4.288157   \n",
       "2022-02-24  237.479996  800.770020         101.3  4288.70     6.079422   \n",
       "2022-02-25  241.570007  809.869995          98.6  4384.65     1.722255   \n",
       "2022-02-28  243.850006  870.429993         103.1  4373.94     0.943825   \n",
       "2022-03-01  234.770004  864.369995         110.9  4306.26    -3.723601   \n",
       "\n",
       "            growth_tsla  growth_oil_price  growth_sp  \n",
       "Date                                                  \n",
       "2019-01-02          NaN               NaN        NaN  \n",
       "2019-01-03    -3.147167         -1.663586  -2.475668  \n",
       "2019-01-04     5.769741          4.511278   3.433569  \n",
       "2019-01-07     5.436116          2.697842   0.701043  \n",
       "2019-01-08     0.116436         -0.350263   0.969530  \n",
       "...                 ...               ...        ...  \n",
       "2022-02-23    -6.997924          0.607903  -1.841218  \n",
       "2022-02-24     4.807346          2.014099   1.495681  \n",
       "2022-02-25     1.136403         -2.665350   2.237275  \n",
       "2022-02-28     7.477743          4.563895  -0.244261  \n",
       "2022-03-01    -0.696207          7.565470  -1.547346  \n",
       "\n",
       "[789 rows x 8 columns]"
      ]
     },
     "execution_count": 22,
     "metadata": {},
     "output_type": "execute_result"
    }
   ],
   "source": [
    "stock_price_anal"
   ]
  },
  {
   "cell_type": "code",
   "execution_count": 23,
   "id": "fd0e4e99-aab2-47d1-ac17-8e9ed86a974a",
   "metadata": {},
   "outputs": [],
   "source": [
    "# then I set two company's stock price's grwoth rates as  dependent variable, \n",
    "# SP500 and oil price's growth rates as dependent variable, analysing the effect of change in oil price on these two company's stock prices"
   ]
  },
  {
   "cell_type": "code",
   "execution_count": 25,
   "id": "bb0e7e33-b531-4a33-9bd9-067473f8bbc3",
   "metadata": {},
   "outputs": [],
   "source": [
    "from  statsmodels.graphics.tsaplots import plot_acf, plot_pacf"
   ]
  },
  {
   "cell_type": "code",
   "execution_count": 26,
   "id": "4e3c3ea5-8cd6-4840-b59f-1977b878f100",
   "metadata": {},
   "outputs": [
    {
     "name": "stderr",
     "output_type": "stream",
     "text": [
      "/opt/conda/lib/python3.7/site-packages/statsmodels/graphics/tsaplots.py:353: FutureWarning: The default method 'yw' can produce PACF values outside of the [-1,1] interval. After 0.13, the default will change tounadjusted Yule-Walker ('ywm'). You can use this method now by setting method='ywm'.\n",
      "  FutureWarning,\n"
     ]
    },
    {
     "data": {
      "image/png": "[encoded data removed]",
      "text/plain": [
       "<Figure size 432x288 with 1 Axes>"
      ]
     },
     "execution_count": 26,
     "metadata": {},
     "output_type": "execute_result"
    },
    {
     "data": {
      "image/png": "[encoded data removed]",
      "text/plain": [
       "<Figure size 432x288 with 1 Axes>"
      ]
     },
     "metadata": {
      "needs_background": "light"
     },
     "output_type": "display_data"
    },
    {
     "data": {
      "image/png": "[encoded data removed]",
      "text/plain": [
       "<Figure size 432x288 with 1 Axes>"
      ]
     },
     "metadata": {
      "needs_background": "light"
     },
     "output_type": "display_data"
    }
   ],
   "source": [
    "plot_acf(stock_price_anal[['growth_nvda']].dropna(), lags = 20)\n",
    "plot_pacf(stock_price_anal[['growth_nvda']].dropna(), lags = 20)"
   ]
  },
  {
   "cell_type": "code",
   "execution_count": 27,
   "id": "36a45bf7-ec95-4c9c-b470-f6d4d0e34c66",
   "metadata": {},
   "outputs": [
    {
     "name": "stderr",
     "output_type": "stream",
     "text": [
      "/opt/conda/lib/python3.7/site-packages/statsmodels/graphics/tsaplots.py:353: FutureWarning: The default method 'yw' can produce PACF values outside of the [-1,1] interval. After 0.13, the default will change tounadjusted Yule-Walker ('ywm'). You can use this method now by setting method='ywm'.\n",
      "  FutureWarning,\n"
     ]
    },
    {
     "data": {
      "image/png": "[encoded data removed]",
      "text/plain": [
       "<Figure size 432x288 with 1 Axes>"
      ]
     },
     "execution_count": 27,
     "metadata": {},
     "output_type": "execute_result"
    },
    {
     "data": {
      "image/png": "[encoded data removed]",
      "text/plain": [
       "<Figure size 432x288 with 1 Axes>"
      ]
     },
     "metadata": {
      "needs_background": "light"
     },
     "output_type": "display_data"
    },
    {
     "data": {
      "image/png": "[encoded data removed]",
      "text/plain": [
       "<Figure size 432x288 with 1 Axes>"
      ]
     },
     "metadata": {
      "needs_background": "light"
     },
     "output_type": "display_data"
    }
   ],
   "source": [
    "plot_acf(stock_price_anal[['growth_tsla']].dropna(), lags = 20)\n",
    "plot_pacf(stock_price_anal[['growth_tsla']].dropna(), lags = 20)\n"
   ]
  },
  {
   "cell_type": "code",
   "execution_count": 101,
   "id": "f5790035-de11-4a57-92d1-2f0035bcf71b",
   "metadata": {},
   "outputs": [
    {
     "name": "stderr",
     "output_type": "stream",
     "text": [
      "/opt/conda/lib/python3.7/site-packages/statsmodels/tsa/base/tsa_model.py:471: ValueWarning: A date index has been provided, but it has no associated frequency information and so will be ignored when e.g. forecasting.\n",
      "  self._init_dates(dates, freq)\n",
      "/opt/conda/lib/python3.7/site-packages/statsmodels/tsa/base/tsa_model.py:471: ValueWarning: A date index has been provided, but it has no associated frequency information and so will be ignored when e.g. forecasting.\n",
      "  self._init_dates(dates, freq)\n",
      "/opt/conda/lib/python3.7/site-packages/statsmodels/tsa/base/tsa_model.py:471: ValueWarning: A date index has been provided, but it has no associated frequency information and so will be ignored when e.g. forecasting.\n",
      "  self._init_dates(dates, freq)\n"
     ]
    },
    {
     "data": {
      "text/html": [
       "<table class=\"simpletable\">\n",
       "<caption>SARIMAX Results</caption>\n",
       "<tr>\n",
       "  <th>Dep. Variable:</th>      <td>Close_tsla</td>    <th>  No. Observations:  </th>    <td>789</td>   \n",
       "</tr>\n",
       "<tr>\n",
       "  <th>Model:</th>            <td>ARIMA(3, 0, 3)</td>  <th>  Log Likelihood     </th> <td>-3520.011</td>\n",
       "</tr>\n",
       "<tr>\n",
       "  <th>Date:</th>            <td>Wed, 16 Mar 2022</td> <th>  AIC                </th> <td>7056.021</td> \n",
       "</tr>\n",
       "<tr>\n",
       "  <th>Time:</th>                <td>19:50:04</td>     <th>  BIC                </th> <td>7093.387</td> \n",
       "</tr>\n",
       "<tr>\n",
       "  <th>Sample:</th>                  <td>0</td>        <th>  HQIC               </th> <td>7070.385</td> \n",
       "</tr>\n",
       "<tr>\n",
       "  <th></th>                      <td> - 789</td>      <th>                     </th>     <td> </td>    \n",
       "</tr>\n",
       "<tr>\n",
       "  <th>Covariance Type:</th>        <td>opg</td>       <th>                     </th>     <td> </td>    \n",
       "</tr>\n",
       "</table>\n",
       "<table class=\"simpletable\">\n",
       "<tr>\n",
       "     <td></td>       <th>coef</th>     <th>std err</th>      <th>z</th>      <th>P>|z|</th>  <th>[0.025</th>    <th>0.975]</th>  \n",
       "</tr>\n",
       "<tr>\n",
       "  <th>const</th>  <td>  401.0124</td> <td>  402.853</td> <td>    0.995</td> <td> 0.320</td> <td> -388.565</td> <td> 1190.590</td>\n",
       "</tr>\n",
       "<tr>\n",
       "  <th>ar.L1</th>  <td>    0.8849</td> <td>    0.408</td> <td>    2.167</td> <td> 0.030</td> <td>    0.085</td> <td>    1.685</td>\n",
       "</tr>\n",
       "<tr>\n",
       "  <th>ar.L2</th>  <td>    0.6441</td> <td>    0.182</td> <td>    3.533</td> <td> 0.000</td> <td>    0.287</td> <td>    1.001</td>\n",
       "</tr>\n",
       "<tr>\n",
       "  <th>ar.L3</th>  <td>   -0.5299</td> <td>    0.358</td> <td>   -1.482</td> <td> 0.138</td> <td>   -1.231</td> <td>    0.171</td>\n",
       "</tr>\n",
       "<tr>\n",
       "  <th>ma.L1</th>  <td>    0.0861</td> <td>    0.400</td> <td>    0.215</td> <td> 0.830</td> <td>   -0.698</td> <td>    0.870</td>\n",
       "</tr>\n",
       "<tr>\n",
       "  <th>ma.L2</th>  <td>   -0.5672</td> <td>    0.358</td> <td>   -1.585</td> <td> 0.113</td> <td>   -1.269</td> <td>    0.134</td>\n",
       "</tr>\n",
       "<tr>\n",
       "  <th>ma.L3</th>  <td>    0.0734</td> <td>    0.025</td> <td>    2.889</td> <td> 0.004</td> <td>    0.024</td> <td>    0.123</td>\n",
       "</tr>\n",
       "<tr>\n",
       "  <th>sigma2</th> <td>  435.9494</td> <td>    9.382</td> <td>   46.466</td> <td> 0.000</td> <td>  417.561</td> <td>  454.338</td>\n",
       "</tr>\n",
       "</table>\n",
       "<table class=\"simpletable\">\n",
       "<tr>\n",
       "  <th>Ljung-Box (L1) (Q):</th>      <td>0.00</td>  <th>  Jarque-Bera (JB):  </th> <td>3102.44</td>\n",
       "</tr>\n",
       "<tr>\n",
       "  <th>Prob(Q):</th>                 <td>0.98</td>  <th>  Prob(JB):          </th>  <td>0.00</td>  \n",
       "</tr>\n",
       "<tr>\n",
       "  <th>Heteroskedasticity (H):</th> <td>198.13</td> <th>  Skew:              </th>  <td>0.22</td>  \n",
       "</tr>\n",
       "<tr>\n",
       "  <th>Prob(H) (two-sided):</th>     <td>0.00</td>  <th>  Kurtosis:          </th>  <td>12.70</td> \n",
       "</tr>\n",
       "</table><br/><br/>Warnings:<br/>[1] Covariance matrix calculated using the outer product of gradients (complex-step)."
      ],
      "text/plain": [
       "<class 'statsmodels.iolib.summary.Summary'>\n",
       "\"\"\"\n",
       "                               SARIMAX Results                                \n",
       "==============================================================================\n",
       "Dep. Variable:             Close_tsla   No. Observations:                  789\n",
       "Model:                 ARIMA(3, 0, 3)   Log Likelihood               -3520.011\n",
       "Date:                Wed, 16 Mar 2022   AIC                           7056.021\n",
       "Time:                        19:50:04   BIC                           7093.387\n",
       "Sample:                             0   HQIC                          7070.385\n",
       "                                - 789                                         \n",
       "Covariance Type:                  opg                                         \n",
       "==============================================================================\n",
       "                 coef    std err          z      P>|z|      [0.025      0.975]\n",
       "------------------------------------------------------------------------------\n",
       "const        401.0124    402.853      0.995      0.320    -388.565    1190.590\n",
       "ar.L1          0.8849      0.408      2.167      0.030       0.085       1.685\n",
       "ar.L2          0.6441      0.182      3.533      0.000       0.287       1.001\n",
       "ar.L3         -0.5299      0.358     -1.482      0.138      -1.231       0.171\n",
       "ma.L1          0.0861      0.400      0.215      0.830      -0.698       0.870\n",
       "ma.L2         -0.5672      0.358     -1.585      0.113      -1.269       0.134\n",
       "ma.L3          0.0734      0.025      2.889      0.004       0.024       0.123\n",
       "sigma2       435.9494      9.382     46.466      0.000     417.561     454.338\n",
       "===================================================================================\n",
       "Ljung-Box (L1) (Q):                   0.00   Jarque-Bera (JB):              3102.44\n",
       "Prob(Q):                              0.98   Prob(JB):                         0.00\n",
       "Heteroskedasticity (H):             198.13   Skew:                             0.22\n",
       "Prob(H) (two-sided):                  0.00   Kurtosis:                        12.70\n",
       "===================================================================================\n",
       "\n",
       "Warnings:\n",
       "[1] Covariance matrix calculated using the outer product of gradients (complex-step).\n",
       "\"\"\""
      ]
     },
     "execution_count": 101,
     "metadata": {},
     "output_type": "execute_result"
    }
   ],
   "source": [
    "import statsmodels.api as sm\n",
    "model = sm.tsa.arima.ARIMA(stock_price_anal[['Close_tsla']], order = (3,0,3))\n",
    "arima_result = model.fit()\n",
    "arima_result.summary()\n",
    "# we can see that tsla stock price is autocorrelated and moving average in its lagged variable"
   ]
  },
  {
   "cell_type": "code",
   "execution_count": 102,
   "id": "beab8564-b069-46f5-b781-cb1aedd7d300",
   "metadata": {},
   "outputs": [
    {
     "name": "stderr",
     "output_type": "stream",
     "text": [
      "/opt/conda/lib/python3.7/site-packages/statsmodels/tsa/base/tsa_model.py:471: ValueWarning: A date index has been provided, but it has no associated frequency information and so will be ignored when e.g. forecasting.\n",
      "  self._init_dates(dates, freq)\n",
      "/opt/conda/lib/python3.7/site-packages/statsmodels/tsa/base/tsa_model.py:471: ValueWarning: A date index has been provided, but it has no associated frequency information and so will be ignored when e.g. forecasting.\n",
      "  self._init_dates(dates, freq)\n",
      "/opt/conda/lib/python3.7/site-packages/statsmodels/tsa/base/tsa_model.py:471: ValueWarning: A date index has been provided, but it has no associated frequency information and so will be ignored when e.g. forecasting.\n",
      "  self._init_dates(dates, freq)\n"
     ]
    },
    {
     "data": {
      "text/html": [
       "<table class=\"simpletable\">\n",
       "<caption>SARIMAX Results</caption>\n",
       "<tr>\n",
       "  <th>Dep. Variable:</th>      <td>Close_nvda</td>    <th>  No. Observations:  </th>    <td>789</td>   \n",
       "</tr>\n",
       "<tr>\n",
       "  <th>Model:</th>            <td>ARIMA(3, 0, 3)</td>  <th>  Log Likelihood     </th> <td>-2310.258</td>\n",
       "</tr>\n",
       "<tr>\n",
       "  <th>Date:</th>            <td>Wed, 16 Mar 2022</td> <th>  AIC                </th> <td>4636.516</td> \n",
       "</tr>\n",
       "<tr>\n",
       "  <th>Time:</th>                <td>19:52:24</td>     <th>  BIC                </th> <td>4673.882</td> \n",
       "</tr>\n",
       "<tr>\n",
       "  <th>Sample:</th>                  <td>0</td>        <th>  HQIC               </th> <td>4650.880</td> \n",
       "</tr>\n",
       "<tr>\n",
       "  <th></th>                      <td> - 789</td>      <th>                     </th>     <td> </td>    \n",
       "</tr>\n",
       "<tr>\n",
       "  <th>Covariance Type:</th>        <td>opg</td>       <th>                     </th>     <td> </td>    \n",
       "</tr>\n",
       "</table>\n",
       "<table class=\"simpletable\">\n",
       "<tr>\n",
       "     <td></td>       <th>coef</th>     <th>std err</th>      <th>z</th>      <th>P>|z|</th>  <th>[0.025</th>    <th>0.975]</th>  \n",
       "</tr>\n",
       "<tr>\n",
       "  <th>const</th>  <td>  118.9951</td> <td>  139.879</td> <td>    0.851</td> <td> 0.395</td> <td> -155.163</td> <td>  393.153</td>\n",
       "</tr>\n",
       "<tr>\n",
       "  <th>ar.L1</th>  <td>    2.2399</td> <td>    0.124</td> <td>   18.110</td> <td> 0.000</td> <td>    1.997</td> <td>    2.482</td>\n",
       "</tr>\n",
       "<tr>\n",
       "  <th>ar.L2</th>  <td>   -1.6587</td> <td>    0.243</td> <td>   -6.829</td> <td> 0.000</td> <td>   -2.135</td> <td>   -1.183</td>\n",
       "</tr>\n",
       "<tr>\n",
       "  <th>ar.L3</th>  <td>    0.4186</td> <td>    0.124</td> <td>    3.385</td> <td> 0.001</td> <td>    0.176</td> <td>    0.661</td>\n",
       "</tr>\n",
       "<tr>\n",
       "  <th>ma.L1</th>  <td>   -1.3187</td> <td>    0.123</td> <td>  -10.711</td> <td> 0.000</td> <td>   -1.560</td> <td>   -1.077</td>\n",
       "</tr>\n",
       "<tr>\n",
       "  <th>ma.L2</th>  <td>    0.4291</td> <td>    0.139</td> <td>    3.082</td> <td> 0.002</td> <td>    0.156</td> <td>    0.702</td>\n",
       "</tr>\n",
       "<tr>\n",
       "  <th>ma.L3</th>  <td>    0.0812</td> <td>    0.028</td> <td>    2.930</td> <td> 0.003</td> <td>    0.027</td> <td>    0.136</td>\n",
       "</tr>\n",
       "<tr>\n",
       "  <th>sigma2</th> <td>   20.2907</td> <td>    0.489</td> <td>   41.499</td> <td> 0.000</td> <td>   19.332</td> <td>   21.249</td>\n",
       "</tr>\n",
       "</table>\n",
       "<table class=\"simpletable\">\n",
       "<tr>\n",
       "  <th>Ljung-Box (L1) (Q):</th>     <td>0.01</td>  <th>  Jarque-Bera (JB):  </th> <td>2125.85</td>\n",
       "</tr>\n",
       "<tr>\n",
       "  <th>Prob(Q):</th>                <td>0.93</td>  <th>  Prob(JB):          </th>  <td>0.00</td>  \n",
       "</tr>\n",
       "<tr>\n",
       "  <th>Heteroskedasticity (H):</th> <td>42.93</td> <th>  Skew:              </th>  <td>0.52</td>  \n",
       "</tr>\n",
       "<tr>\n",
       "  <th>Prob(H) (two-sided):</th>    <td>0.00</td>  <th>  Kurtosis:          </th>  <td>10.97</td> \n",
       "</tr>\n",
       "</table><br/><br/>Warnings:<br/>[1] Covariance matrix calculated using the outer product of gradients (complex-step)."
      ],
      "text/plain": [
       "<class 'statsmodels.iolib.summary.Summary'>\n",
       "\"\"\"\n",
       "                               SARIMAX Results                                \n",
       "==============================================================================\n",
       "Dep. Variable:             Close_nvda   No. Observations:                  789\n",
       "Model:                 ARIMA(3, 0, 3)   Log Likelihood               -2310.258\n",
       "Date:                Wed, 16 Mar 2022   AIC                           4636.516\n",
       "Time:                        19:52:24   BIC                           4673.882\n",
       "Sample:                             0   HQIC                          4650.880\n",
       "                                - 789                                         \n",
       "Covariance Type:                  opg                                         \n",
       "==============================================================================\n",
       "                 coef    std err          z      P>|z|      [0.025      0.975]\n",
       "------------------------------------------------------------------------------\n",
       "const        118.9951    139.879      0.851      0.395    -155.163     393.153\n",
       "ar.L1          2.2399      0.124     18.110      0.000       1.997       2.482\n",
       "ar.L2         -1.6587      0.243     -6.829      0.000      -2.135      -1.183\n",
       "ar.L3          0.4186      0.124      3.385      0.001       0.176       0.661\n",
       "ma.L1         -1.3187      0.123    -10.711      0.000      -1.560      -1.077\n",
       "ma.L2          0.4291      0.139      3.082      0.002       0.156       0.702\n",
       "ma.L3          0.0812      0.028      2.930      0.003       0.027       0.136\n",
       "sigma2        20.2907      0.489     41.499      0.000      19.332      21.249\n",
       "===================================================================================\n",
       "Ljung-Box (L1) (Q):                   0.01   Jarque-Bera (JB):              2125.85\n",
       "Prob(Q):                              0.93   Prob(JB):                         0.00\n",
       "Heteroskedasticity (H):              42.93   Skew:                             0.52\n",
       "Prob(H) (two-sided):                  0.00   Kurtosis:                        10.97\n",
       "===================================================================================\n",
       "\n",
       "Warnings:\n",
       "[1] Covariance matrix calculated using the outer product of gradients (complex-step).\n",
       "\"\"\""
      ]
     },
     "execution_count": 102,
     "metadata": {},
     "output_type": "execute_result"
    }
   ],
   "source": [
    "model = sm.tsa.arima.ARIMA(stock_price_anal[['Close_nvda']], order = (3,0,3))\n",
    "arima_result = model.fit()\n",
    "arima_result.summary()\n",
    "# we can see that tsla stock price is autocorrelated and moving average in its lagged variable"
   ]
  },
  {
   "cell_type": "code",
   "execution_count": 30,
   "id": "c64f40fb-d485-4b16-b481-0f0070618e8d",
   "metadata": {},
   "outputs": [],
   "source": [
    "# from the result, we can expect these two variables might exist cointegration problem\n",
    "# Since their first-order lag autoregressive coefficients are close to 1, \n",
    "# it is likely that they have unit roots\n",
    "# then I regress the two stock prices for SP500 and oil price, \n",
    "# since stock prices might not be affected by oil price and SP500 immediately,\n",
    "# I estimate these two variables could have same lag effects on stock price,\n",
    "# in this case, I assume the lag effect of oil price and SP 500 about three backward periods to stock prices "
   ]
  },
  {
   "cell_type": "code",
   "execution_count": 31,
   "id": "419b4f5c-d317-473e-b3b3-aef25a697a22",
   "metadata": {},
   "outputs": [
    {
     "data": {
      "text/html": [
       "<div>\n",
       "<style scoped>\n",
       "    .dataframe tbody tr th:only-of-type {\n",
       "        vertical-align: middle;\n",
       "    }\n",
       "\n",
       "    .dataframe tbody tr th {\n",
       "        vertical-align: top;\n",
       "    }\n",
       "\n",
       "    .dataframe thead th {\n",
       "        text-align: right;\n",
       "    }\n",
       "</style>\n",
       "<table border=\"1\" class=\"dataframe\">\n",
       "  <thead>\n",
       "    <tr style=\"text-align: right;\">\n",
       "      <th></th>\n",
       "      <th>Close_nvda</th>\n",
       "      <th>Close_tsla</th>\n",
       "      <th>DCOILBRENTEU</th>\n",
       "      <th>SP500</th>\n",
       "      <th>growth_nvda</th>\n",
       "      <th>growth_tsla</th>\n",
       "      <th>growth_oil_price</th>\n",
       "      <th>growth_sp</th>\n",
       "    </tr>\n",
       "    <tr>\n",
       "      <th>Date</th>\n",
       "      <th></th>\n",
       "      <th></th>\n",
       "      <th></th>\n",
       "      <th></th>\n",
       "      <th></th>\n",
       "      <th></th>\n",
       "      <th></th>\n",
       "      <th></th>\n",
       "    </tr>\n",
       "  </thead>\n",
       "  <tbody>\n",
       "    <tr>\n",
       "      <th>2019-01-02</th>\n",
       "      <td>34.055000</td>\n",
       "      <td>62.023998</td>\n",
       "      <td>54.1</td>\n",
       "      <td>2510.03</td>\n",
       "      <td>NaN</td>\n",
       "      <td>NaN</td>\n",
       "      <td>NaN</td>\n",
       "      <td>NaN</td>\n",
       "    </tr>\n",
       "    <tr>\n",
       "      <th>2019-01-03</th>\n",
       "      <td>31.997499</td>\n",
       "      <td>60.071999</td>\n",
       "      <td>53.2</td>\n",
       "      <td>2447.89</td>\n",
       "      <td>-6.041700</td>\n",
       "      <td>-3.147167</td>\n",
       "      <td>-1.663586</td>\n",
       "      <td>-2.475668</td>\n",
       "    </tr>\n",
       "    <tr>\n",
       "      <th>2019-01-04</th>\n",
       "      <td>34.047501</td>\n",
       "      <td>63.537998</td>\n",
       "      <td>55.6</td>\n",
       "      <td>2531.94</td>\n",
       "      <td>6.406757</td>\n",
       "      <td>5.769741</td>\n",
       "      <td>4.511278</td>\n",
       "      <td>3.433569</td>\n",
       "    </tr>\n",
       "    <tr>\n",
       "      <th>2019-01-07</th>\n",
       "      <td>35.849998</td>\n",
       "      <td>66.991997</td>\n",
       "      <td>57.1</td>\n",
       "      <td>2549.69</td>\n",
       "      <td>5.294065</td>\n",
       "      <td>5.436116</td>\n",
       "      <td>2.697842</td>\n",
       "      <td>0.701043</td>\n",
       "    </tr>\n",
       "    <tr>\n",
       "      <th>2019-01-08</th>\n",
       "      <td>34.957500</td>\n",
       "      <td>67.070000</td>\n",
       "      <td>56.9</td>\n",
       "      <td>2574.41</td>\n",
       "      <td>-2.489534</td>\n",
       "      <td>0.116436</td>\n",
       "      <td>-0.350263</td>\n",
       "      <td>0.969530</td>\n",
       "    </tr>\n",
       "    <tr>\n",
       "      <th>...</th>\n",
       "      <td>...</td>\n",
       "      <td>...</td>\n",
       "      <td>...</td>\n",
       "      <td>...</td>\n",
       "      <td>...</td>\n",
       "      <td>...</td>\n",
       "      <td>...</td>\n",
       "      <td>...</td>\n",
       "    </tr>\n",
       "    <tr>\n",
       "      <th>2022-02-23</th>\n",
       "      <td>223.869995</td>\n",
       "      <td>764.039978</td>\n",
       "      <td>99.3</td>\n",
       "      <td>4225.50</td>\n",
       "      <td>-4.288157</td>\n",
       "      <td>-6.997924</td>\n",
       "      <td>0.607903</td>\n",
       "      <td>-1.841218</td>\n",
       "    </tr>\n",
       "    <tr>\n",
       "      <th>2022-02-24</th>\n",
       "      <td>237.479996</td>\n",
       "      <td>800.770020</td>\n",
       "      <td>101.3</td>\n",
       "      <td>4288.70</td>\n",
       "      <td>6.079422</td>\n",
       "      <td>4.807346</td>\n",
       "      <td>2.014099</td>\n",
       "      <td>1.495681</td>\n",
       "    </tr>\n",
       "    <tr>\n",
       "      <th>2022-02-25</th>\n",
       "      <td>241.570007</td>\n",
       "      <td>809.869995</td>\n",
       "      <td>98.6</td>\n",
       "      <td>4384.65</td>\n",
       "      <td>1.722255</td>\n",
       "      <td>1.136403</td>\n",
       "      <td>-2.665350</td>\n",
       "      <td>2.237275</td>\n",
       "    </tr>\n",
       "    <tr>\n",
       "      <th>2022-02-28</th>\n",
       "      <td>243.850006</td>\n",
       "      <td>870.429993</td>\n",
       "      <td>103.1</td>\n",
       "      <td>4373.94</td>\n",
       "      <td>0.943825</td>\n",
       "      <td>7.477743</td>\n",
       "      <td>4.563895</td>\n",
       "      <td>-0.244261</td>\n",
       "    </tr>\n",
       "    <tr>\n",
       "      <th>2022-03-01</th>\n",
       "      <td>234.770004</td>\n",
       "      <td>864.369995</td>\n",
       "      <td>110.9</td>\n",
       "      <td>4306.26</td>\n",
       "      <td>-3.723601</td>\n",
       "      <td>-0.696207</td>\n",
       "      <td>7.565470</td>\n",
       "      <td>-1.547346</td>\n",
       "    </tr>\n",
       "  </tbody>\n",
       "</table>\n",
       "<p>789 rows × 8 columns</p>\n",
       "</div>"
      ],
      "text/plain": [
       "            Close_nvda  Close_tsla  DCOILBRENTEU    SP500  growth_nvda  \\\n",
       "Date                                                                     \n",
       "2019-01-02   34.055000   62.023998          54.1  2510.03          NaN   \n",
       "2019-01-03   31.997499   60.071999          53.2  2447.89    -6.041700   \n",
       "2019-01-04   34.047501   63.537998          55.6  2531.94     6.406757   \n",
       "2019-01-07   35.849998   66.991997          57.1  2549.69     5.294065   \n",
       "2019-01-08   34.957500   67.070000          56.9  2574.41    -2.489534   \n",
       "...                ...         ...           ...      ...          ...   \n",
       "2022-02-23  223.869995  764.039978          99.3  4225.50    -4.288157   \n",
       "2022-02-24  237.479996  800.770020         101.3  4288.70     6.079422   \n",
       "2022-02-25  241.570007  809.869995          98.6  4384.65     1.722255   \n",
       "2022-02-28  243.850006  870.429993         103.1  4373.94     0.943825   \n",
       "2022-03-01  234.770004  864.369995         110.9  4306.26    -3.723601   \n",
       "\n",
       "            growth_tsla  growth_oil_price  growth_sp  \n",
       "Date                                                  \n",
       "2019-01-02          NaN               NaN        NaN  \n",
       "2019-01-03    -3.147167         -1.663586  -2.475668  \n",
       "2019-01-04     5.769741          4.511278   3.433569  \n",
       "2019-01-07     5.436116          2.697842   0.701043  \n",
       "2019-01-08     0.116436         -0.350263   0.969530  \n",
       "...                 ...               ...        ...  \n",
       "2022-02-23    -6.997924          0.607903  -1.841218  \n",
       "2022-02-24     4.807346          2.014099   1.495681  \n",
       "2022-02-25     1.136403         -2.665350   2.237275  \n",
       "2022-02-28     7.477743          4.563895  -0.244261  \n",
       "2022-03-01    -0.696207          7.565470  -1.547346  \n",
       "\n",
       "[789 rows x 8 columns]"
      ]
     },
     "execution_count": 31,
     "metadata": {},
     "output_type": "execute_result"
    }
   ],
   "source": [
    "stock_price_anal"
   ]
  },
  {
   "cell_type": "code",
   "execution_count": 96,
   "id": "9f2ccb2f-343a-4442-9e7b-fa350c85f6d6",
   "metadata": {},
   "outputs": [
    {
     "data": {
      "text/plain": [
       "Date\n",
       "2019-01-10    2.015724\n",
       "2019-01-11    2.196305\n",
       "2019-01-14    0.524236\n",
       "2019-01-15   -0.594103\n",
       "2019-01-16    0.185821\n",
       "                ...   \n",
       "2022-02-23   -4.865325\n",
       "2022-02-24    4.877084\n",
       "2022-02-25    2.581821\n",
       "2022-02-28    1.961929\n",
       "2022-03-01   -3.944987\n",
       "Length: 783, dtype: float64"
      ]
     },
     "execution_count": 96,
     "metadata": {},
     "output_type": "execute_result"
    }
   ],
   "source": [
    "y = stock_price_anal[['growth_nvda']] \n",
    "# create lagged variable for oil price growth rate\n",
    "stock_price_anal[['lag1_growth_oil_price']] = stock_price_anal[['growth_oil_price']].shift(1)\n",
    "stock_price_anal[['lag2_growth_oil_price']]  = stock_price_anal[['growth_oil_price']].shift(2)\n",
    "stock_price_anal[['lag3_growth_oil_price']] = stock_price_anal[['growth_oil_price']].shift(3)\n",
    "stock_price_anal[['lag4_growth_oil_price']]  = stock_price_anal[['growth_oil_price']].shift(4)\n",
    "stock_price_anal[['lag5_growth_oil_price']]  = stock_price_anal[['growth_oil_price']].shift(5)\n",
    "\n",
    "\n",
    "# create lagged variable for SP500 growth rate\n",
    "stock_price_anal[['lag1_growth_sp']] = stock_price_anal[['growth_sp']].shift(1)\n",
    "stock_price_anal[['lag2_growth_sp']] = stock_price_anal[['growth_sp']].shift(2)\n",
    "stock_price_anal[['lag3_growth_sp']] = stock_price_anal[['growth_sp']].shift(3)\n",
    "stock_price_anal[['lag4_growth_sp']] = stock_price_anal[['growth_sp']].shift(4)\n",
    "stock_price_anal[['lag5_growth_sp']] = stock_price_anal[['growth_sp']].shift(5)\n",
    "\n",
    "# create independent variable\n",
    "X = stock_price_anal[['lag1_growth_oil_price', 'lag2_growth_oil_price', 'lag3_growth_oil_price', 'lag4_growth_oil_price', \n",
    "                      'lag5_growth_oil_price', 'lag1_growth_sp', 'lag2_growth_sp', 'lag3_growth_sp', 'lag4_growth_sp', 'lag5_growth_sp']]\n",
    "nvda_reg = sm.OLS(y, X, missing = 'drop').fit()\n",
    "nvda_reg_resid = sm.OLS(y, X, missing = 'drop').fit().resid\n",
    "nvda_reg_resid\n"
   ]
  },
  {
   "cell_type": "code",
   "execution_count": 98,
   "id": "d0693c64-9cb7-4121-9871-705e2b3f9967",
   "metadata": {},
   "outputs": [
    {
     "data": {
      "text/plain": [
       "(-27.18602559629717,\n",
       " 0.0,\n",
       " 0,\n",
       " 782,\n",
       " {'1%': -3.4387398917732193,\n",
       "  '5%': -2.8652430432199654,\n",
       "  '10%': -2.5687418568690683},\n",
       " 3800.865210148836)"
      ]
     },
     "execution_count": 98,
     "metadata": {},
     "output_type": "execute_result"
    }
   ],
   "source": [
    "# then use augmented Dickey-Fuller test to test whether the resid has unit root\n",
    "from statsmodels.tsa.stattools import adfuller\n",
    "adfuller(nvda_reg_resid)\n"
   ]
  },
  {
   "cell_type": "code",
   "execution_count": 99,
   "id": "342721eb-33d8-4491-a77c-732cf5d33a77",
   "metadata": {},
   "outputs": [
    {
     "data": {
      "text/html": [
       "<table class=\"simpletable\">\n",
       "<caption>OLS Regression Results</caption>\n",
       "<tr>\n",
       "  <th>Dep. Variable:</th>       <td>growth_nvda</td>   <th>  R-squared (uncentered):</th>      <td>   0.084</td>\n",
       "</tr>\n",
       "<tr>\n",
       "  <th>Model:</th>                   <td>OLS</td>       <th>  Adj. R-squared (uncentered):</th> <td>   0.072</td>\n",
       "</tr>\n",
       "<tr>\n",
       "  <th>Method:</th>             <td>Least Squares</td>  <th>  F-statistic:       </th>          <td>   7.100</td>\n",
       "</tr>\n",
       "<tr>\n",
       "  <th>Date:</th>             <td>Wed, 16 Mar 2022</td> <th>  Prob (F-statistic):</th>          <td>9.55e-11</td>\n",
       "</tr>\n",
       "<tr>\n",
       "  <th>Time:</th>                 <td>19:49:00</td>     <th>  Log-Likelihood:    </th>          <td> -1968.0</td>\n",
       "</tr>\n",
       "<tr>\n",
       "  <th>No. Observations:</th>      <td>   783</td>      <th>  AIC:               </th>          <td>   3956.</td>\n",
       "</tr>\n",
       "<tr>\n",
       "  <th>Df Residuals:</th>          <td>   773</td>      <th>  BIC:               </th>          <td>   4003.</td>\n",
       "</tr>\n",
       "<tr>\n",
       "  <th>Df Model:</th>              <td>    10</td>      <th>                     </th>              <td> </td>   \n",
       "</tr>\n",
       "<tr>\n",
       "  <th>Covariance Type:</th>      <td>nonrobust</td>    <th>                     </th>              <td> </td>   \n",
       "</tr>\n",
       "</table>\n",
       "<table class=\"simpletable\">\n",
       "<tr>\n",
       "            <td></td>               <th>coef</th>     <th>std err</th>      <th>t</th>      <th>P>|t|</th>  <th>[0.025</th>    <th>0.975]</th>  \n",
       "</tr>\n",
       "<tr>\n",
       "  <th>lag1_growth_oil_price</th> <td>    0.0115</td> <td>    0.027</td> <td>    0.429</td> <td> 0.668</td> <td>   -0.041</td> <td>    0.064</td>\n",
       "</tr>\n",
       "<tr>\n",
       "  <th>lag2_growth_oil_price</th> <td>    0.0706</td> <td>    0.027</td> <td>    2.632</td> <td> 0.009</td> <td>    0.018</td> <td>    0.123</td>\n",
       "</tr>\n",
       "<tr>\n",
       "  <th>lag3_growth_oil_price</th> <td>    0.0796</td> <td>    0.027</td> <td>    2.919</td> <td> 0.004</td> <td>    0.026</td> <td>    0.133</td>\n",
       "</tr>\n",
       "<tr>\n",
       "  <th>lag4_growth_oil_price</th> <td>   -0.0253</td> <td>    0.027</td> <td>   -0.924</td> <td> 0.356</td> <td>   -0.079</td> <td>    0.028</td>\n",
       "</tr>\n",
       "<tr>\n",
       "  <th>lag5_growth_oil_price</th> <td>   -0.0068</td> <td>    0.027</td> <td>   -0.250</td> <td> 0.803</td> <td>   -0.060</td> <td>    0.047</td>\n",
       "</tr>\n",
       "<tr>\n",
       "  <th>lag1_growth_sp</th>        <td>   -0.5290</td> <td>    0.087</td> <td>   -6.051</td> <td> 0.000</td> <td>   -0.701</td> <td>   -0.357</td>\n",
       "</tr>\n",
       "<tr>\n",
       "  <th>lag2_growth_sp</th>        <td>    0.0898</td> <td>    0.090</td> <td>    1.001</td> <td> 0.317</td> <td>   -0.086</td> <td>    0.266</td>\n",
       "</tr>\n",
       "<tr>\n",
       "  <th>lag3_growth_sp</th>        <td>   -0.0040</td> <td>    0.089</td> <td>   -0.045</td> <td> 0.964</td> <td>   -0.179</td> <td>    0.171</td>\n",
       "</tr>\n",
       "<tr>\n",
       "  <th>lag4_growth_sp</th>        <td>    0.0083</td> <td>    0.086</td> <td>    0.096</td> <td> 0.924</td> <td>   -0.161</td> <td>    0.177</td>\n",
       "</tr>\n",
       "<tr>\n",
       "  <th>lag5_growth_sp</th>        <td>    0.0780</td> <td>    0.084</td> <td>    0.923</td> <td> 0.357</td> <td>   -0.088</td> <td>    0.244</td>\n",
       "</tr>\n",
       "</table>\n",
       "<table class=\"simpletable\">\n",
       "<tr>\n",
       "  <th>Omnibus:</th>       <td>47.405</td> <th>  Durbin-Watson:     </th> <td>   1.926</td>\n",
       "</tr>\n",
       "<tr>\n",
       "  <th>Prob(Omnibus):</th> <td> 0.000</td> <th>  Jarque-Bera (JB):  </th> <td> 168.747</td>\n",
       "</tr>\n",
       "<tr>\n",
       "  <th>Skew:</th>          <td>-0.125</td> <th>  Prob(JB):          </th> <td>2.28e-37</td>\n",
       "</tr>\n",
       "<tr>\n",
       "  <th>Kurtosis:</th>      <td> 5.260</td> <th>  Cond. No.          </th> <td>    4.41</td>\n",
       "</tr>\n",
       "</table><br/><br/>Notes:<br/>[1] R² is computed without centering (uncentered) since the model does not contain a constant.<br/>[2] Standard Errors assume that the covariance matrix of the errors is correctly specified."
      ],
      "text/plain": [
       "<class 'statsmodels.iolib.summary.Summary'>\n",
       "\"\"\"\n",
       "                                 OLS Regression Results                                \n",
       "=======================================================================================\n",
       "Dep. Variable:            growth_nvda   R-squared (uncentered):                   0.084\n",
       "Model:                            OLS   Adj. R-squared (uncentered):              0.072\n",
       "Method:                 Least Squares   F-statistic:                              7.100\n",
       "Date:                Wed, 16 Mar 2022   Prob (F-statistic):                    9.55e-11\n",
       "Time:                        19:49:00   Log-Likelihood:                         -1968.0\n",
       "No. Observations:                 783   AIC:                                      3956.\n",
       "Df Residuals:                     773   BIC:                                      4003.\n",
       "Df Model:                          10                                                  \n",
       "Covariance Type:            nonrobust                                                  \n",
       "=========================================================================================\n",
       "                            coef    std err          t      P>|t|      [0.025      0.975]\n",
       "-----------------------------------------------------------------------------------------\n",
       "lag1_growth_oil_price     0.0115      0.027      0.429      0.668      -0.041       0.064\n",
       "lag2_growth_oil_price     0.0706      0.027      2.632      0.009       0.018       0.123\n",
       "lag3_growth_oil_price     0.0796      0.027      2.919      0.004       0.026       0.133\n",
       "lag4_growth_oil_price    -0.0253      0.027     -0.924      0.356      -0.079       0.028\n",
       "lag5_growth_oil_price    -0.0068      0.027     -0.250      0.803      -0.060       0.047\n",
       "lag1_growth_sp           -0.5290      0.087     -6.051      0.000      -0.701      -0.357\n",
       "lag2_growth_sp            0.0898      0.090      1.001      0.317      -0.086       0.266\n",
       "lag3_growth_sp           -0.0040      0.089     -0.045      0.964      -0.179       0.171\n",
       "lag4_growth_sp            0.0083      0.086      0.096      0.924      -0.161       0.177\n",
       "lag5_growth_sp            0.0780      0.084      0.923      0.357      -0.088       0.244\n",
       "==============================================================================\n",
       "Omnibus:                       47.405   Durbin-Watson:                   1.926\n",
       "Prob(Omnibus):                  0.000   Jarque-Bera (JB):              168.747\n",
       "Skew:                          -0.125   Prob(JB):                     2.28e-37\n",
       "Kurtosis:                       5.260   Cond. No.                         4.41\n",
       "==============================================================================\n",
       "\n",
       "Notes:\n",
       "[1] R² is computed without centering (uncentered) since the model does not contain a constant.\n",
       "[2] Standard Errors assume that the covariance matrix of the errors is correctly specified.\n",
       "\"\"\""
      ]
     },
     "execution_count": 99,
     "metadata": {},
     "output_type": "execute_result"
    }
   ],
   "source": [
    "# we can see that test-statistic is -27.19, p- value is 0, we can reject null hypothesis that resid has unit root, so resid is not I(1),\n",
    "# on the other hand, we can conclude that the growth rate of nvda's stock price, oil price, SP500 are cointegrated, \n",
    "nvda_reg.summary()"
   ]
  },
  {
   "cell_type": "code",
   "execution_count": null,
   "id": "c2db87da-c94d-4f48-a931-7fc401d7354d",
   "metadata": {},
   "outputs": [],
   "source": [
    "# According to the result, we can see that nvda stock price growth rate has a minimal relationship with lagged oil price and SP 500 growth rate\n",
    "# the interesting thing is, the relationship with dependent variables are almost positive, sometimes the coeffcient of lagged variable is negative,\n",
    "# but it is not very statistically signiciant. "
   ]
  },
  {
   "cell_type": "code",
   "execution_count": null,
   "id": "cdbc7197-5654-4d8a-91ce-37c931585447",
   "metadata": {},
   "outputs": [],
   "source": [
    "# then do the same thing with the growth rate of tsla,"
   ]
  },
  {
   "cell_type": "code",
   "execution_count": 106,
   "id": "877aa578-1fc8-4a06-97da-57272ce6fd39",
   "metadata": {},
   "outputs": [
    {
     "data": {
      "text/plain": [
       "(-27.556257150774467,\n",
       " 0.0,\n",
       " 0,\n",
       " 782,\n",
       " {'1%': -3.4387398917732193,\n",
       "  '5%': -2.8652430432199654,\n",
       "  '10%': -2.5687418568690683},\n",
       " 4365.781003626263)"
      ]
     },
     "execution_count": 106,
     "metadata": {},
     "output_type": "execute_result"
    }
   ],
   "source": [
    "y = stock_price_anal[['growth_tsla']]\n",
    "X = stock_price_anal[['lag1_growth_oil_price', 'lag2_growth_oil_price', 'lag3_growth_oil_price', 'lag4_growth_oil_price', \n",
    "                      'lag5_growth_oil_price', 'lag1_growth_sp', 'lag2_growth_sp', 'lag3_growth_sp', 'lag4_growth_sp', 'lag5_growth_sp']]\n",
    "tsla_reg = sm.OLS(y, X, missing = 'drop').fit()\n",
    "tsla_reg_resid = sm.OLS(y, X, missing = 'drop').fit().resid\n",
    "adfuller(tsla_reg_resid)"
   ]
  },
  {
   "cell_type": "code",
   "execution_count": 107,
   "id": "edc597ab-209c-4436-9dc1-86909c5ba895",
   "metadata": {},
   "outputs": [
    {
     "data": {
      "text/html": [
       "<table class=\"simpletable\">\n",
       "<caption>OLS Regression Results</caption>\n",
       "<tr>\n",
       "  <th>Dep. Variable:</th>       <td>growth_tsla</td>   <th>  R-squared (uncentered):</th>      <td>   0.033</td>\n",
       "</tr>\n",
       "<tr>\n",
       "  <th>Model:</th>                   <td>OLS</td>       <th>  Adj. R-squared (uncentered):</th> <td>   0.020</td>\n",
       "</tr>\n",
       "<tr>\n",
       "  <th>Method:</th>             <td>Least Squares</td>  <th>  F-statistic:       </th>          <td>   2.609</td>\n",
       "</tr>\n",
       "<tr>\n",
       "  <th>Date:</th>             <td>Wed, 16 Mar 2022</td> <th>  Prob (F-statistic):</th>           <td>0.00404</td>\n",
       "</tr>\n",
       "<tr>\n",
       "  <th>Time:</th>                 <td>20:01:48</td>     <th>  Log-Likelihood:    </th>          <td> -2243.7</td>\n",
       "</tr>\n",
       "<tr>\n",
       "  <th>No. Observations:</th>      <td>   783</td>      <th>  AIC:               </th>          <td>   4507.</td>\n",
       "</tr>\n",
       "<tr>\n",
       "  <th>Df Residuals:</th>          <td>   773</td>      <th>  BIC:               </th>          <td>   4554.</td>\n",
       "</tr>\n",
       "<tr>\n",
       "  <th>Df Model:</th>              <td>    10</td>      <th>                     </th>              <td> </td>   \n",
       "</tr>\n",
       "<tr>\n",
       "  <th>Covariance Type:</th>      <td>nonrobust</td>    <th>                     </th>              <td> </td>   \n",
       "</tr>\n",
       "</table>\n",
       "<table class=\"simpletable\">\n",
       "<tr>\n",
       "            <td></td>               <th>coef</th>     <th>std err</th>      <th>t</th>      <th>P>|t|</th>  <th>[0.025</th>    <th>0.975]</th>  \n",
       "</tr>\n",
       "<tr>\n",
       "  <th>lag1_growth_oil_price</th> <td>   -0.0092</td> <td>    0.038</td> <td>   -0.241</td> <td> 0.809</td> <td>   -0.084</td> <td>    0.066</td>\n",
       "</tr>\n",
       "<tr>\n",
       "  <th>lag2_growth_oil_price</th> <td>    0.0831</td> <td>    0.038</td> <td>    2.177</td> <td> 0.030</td> <td>    0.008</td> <td>    0.158</td>\n",
       "</tr>\n",
       "<tr>\n",
       "  <th>lag3_growth_oil_price</th> <td>    0.1089</td> <td>    0.039</td> <td>    2.807</td> <td> 0.005</td> <td>    0.033</td> <td>    0.185</td>\n",
       "</tr>\n",
       "<tr>\n",
       "  <th>lag4_growth_oil_price</th> <td>   -0.0652</td> <td>    0.039</td> <td>   -1.677</td> <td> 0.094</td> <td>   -0.141</td> <td>    0.011</td>\n",
       "</tr>\n",
       "<tr>\n",
       "  <th>lag5_growth_oil_price</th> <td>    0.0386</td> <td>    0.039</td> <td>    0.995</td> <td> 0.320</td> <td>   -0.038</td> <td>    0.115</td>\n",
       "</tr>\n",
       "<tr>\n",
       "  <th>lag1_growth_sp</th>        <td>   -0.0096</td> <td>    0.124</td> <td>   -0.077</td> <td> 0.939</td> <td>   -0.254</td> <td>    0.234</td>\n",
       "</tr>\n",
       "<tr>\n",
       "  <th>lag2_growth_sp</th>        <td>    0.1649</td> <td>    0.128</td> <td>    1.292</td> <td> 0.197</td> <td>   -0.086</td> <td>    0.415</td>\n",
       "</tr>\n",
       "<tr>\n",
       "  <th>lag3_growth_sp</th>        <td>   -0.0657</td> <td>    0.127</td> <td>   -0.517</td> <td> 0.605</td> <td>   -0.315</td> <td>    0.184</td>\n",
       "</tr>\n",
       "<tr>\n",
       "  <th>lag4_growth_sp</th>        <td>    0.2235</td> <td>    0.122</td> <td>    1.826</td> <td> 0.068</td> <td>   -0.017</td> <td>    0.464</td>\n",
       "</tr>\n",
       "<tr>\n",
       "  <th>lag5_growth_sp</th>        <td>   -0.0214</td> <td>    0.120</td> <td>   -0.178</td> <td> 0.858</td> <td>   -0.257</td> <td>    0.214</td>\n",
       "</tr>\n",
       "</table>\n",
       "<table class=\"simpletable\">\n",
       "<tr>\n",
       "  <th>Omnibus:</th>       <td>85.175</td> <th>  Durbin-Watson:     </th> <td>   1.958</td> \n",
       "</tr>\n",
       "<tr>\n",
       "  <th>Prob(Omnibus):</th> <td> 0.000</td> <th>  Jarque-Bera (JB):  </th> <td> 493.917</td> \n",
       "</tr>\n",
       "<tr>\n",
       "  <th>Skew:</th>          <td> 0.271</td> <th>  Prob(JB):          </th> <td>5.59e-108</td>\n",
       "</tr>\n",
       "<tr>\n",
       "  <th>Kurtosis:</th>      <td> 6.853</td> <th>  Cond. No.          </th> <td>    4.41</td> \n",
       "</tr>\n",
       "</table><br/><br/>Notes:<br/>[1] R² is computed without centering (uncentered) since the model does not contain a constant.<br/>[2] Standard Errors assume that the covariance matrix of the errors is correctly specified."
      ],
      "text/plain": [
       "<class 'statsmodels.iolib.summary.Summary'>\n",
       "\"\"\"\n",
       "                                 OLS Regression Results                                \n",
       "=======================================================================================\n",
       "Dep. Variable:            growth_tsla   R-squared (uncentered):                   0.033\n",
       "Model:                            OLS   Adj. R-squared (uncentered):              0.020\n",
       "Method:                 Least Squares   F-statistic:                              2.609\n",
       "Date:                Wed, 16 Mar 2022   Prob (F-statistic):                     0.00404\n",
       "Time:                        20:01:48   Log-Likelihood:                         -2243.7\n",
       "No. Observations:                 783   AIC:                                      4507.\n",
       "Df Residuals:                     773   BIC:                                      4554.\n",
       "Df Model:                          10                                                  \n",
       "Covariance Type:            nonrobust                                                  \n",
       "=========================================================================================\n",
       "                            coef    std err          t      P>|t|      [0.025      0.975]\n",
       "-----------------------------------------------------------------------------------------\n",
       "lag1_growth_oil_price    -0.0092      0.038     -0.241      0.809      -0.084       0.066\n",
       "lag2_growth_oil_price     0.0831      0.038      2.177      0.030       0.008       0.158\n",
       "lag3_growth_oil_price     0.1089      0.039      2.807      0.005       0.033       0.185\n",
       "lag4_growth_oil_price    -0.0652      0.039     -1.677      0.094      -0.141       0.011\n",
       "lag5_growth_oil_price     0.0386      0.039      0.995      0.320      -0.038       0.115\n",
       "lag1_growth_sp           -0.0096      0.124     -0.077      0.939      -0.254       0.234\n",
       "lag2_growth_sp            0.1649      0.128      1.292      0.197      -0.086       0.415\n",
       "lag3_growth_sp           -0.0657      0.127     -0.517      0.605      -0.315       0.184\n",
       "lag4_growth_sp            0.2235      0.122      1.826      0.068      -0.017       0.464\n",
       "lag5_growth_sp           -0.0214      0.120     -0.178      0.858      -0.257       0.214\n",
       "==============================================================================\n",
       "Omnibus:                       85.175   Durbin-Watson:                   1.958\n",
       "Prob(Omnibus):                  0.000   Jarque-Bera (JB):              493.917\n",
       "Skew:                           0.271   Prob(JB):                    5.59e-108\n",
       "Kurtosis:                       6.853   Cond. No.                         4.41\n",
       "==============================================================================\n",
       "\n",
       "Notes:\n",
       "[1] R² is computed without centering (uncentered) since the model does not contain a constant.\n",
       "[2] Standard Errors assume that the covariance matrix of the errors is correctly specified.\n",
       "\"\"\""
      ]
     },
     "execution_count": 107,
     "metadata": {},
     "output_type": "execute_result"
    }
   ],
   "source": [
    "# we can also see that p-value is 0, which means we can reject null hypothesis that resid has unit root, so resid is not I(1),\n",
    "# so the growth rate of tsla's stock price, oil price, SP500 are cointegrated, \n",
    "tsla_reg.summary()"
   ]
  },
  {
   "cell_type": "code",
   "execution_count": null,
   "id": "0a108dd1-fce4-45c2-bee3-7463460d7bd3",
   "metadata": {},
   "outputs": [],
   "source": [
    "# According to the result, we can see that tsla stock price growth rate has a minimal relationship with lagged oil price and SP 500 growth rate\n",
    "# the interesting thing is, the relationship with dependent variables are almost positive, sometimes the coeffcient of lagged variable is negative,\n",
    "# but it is not very statistically signiciant. \n",
    "\n",
    "\n",
    "# and we can find a interesting thing, which is the growth rate of the stock has a noticeable lagged reflection to that of oil prices and SP500, \n",
    "# since we can clearly see that the coefficients in second order, third order, fourth order are much higher and statistically siginiciant than first order,\n",
    "# we can estimate the growth rate of stock price need some time to make any adjustment.\n"
   ]
  }
 ],
 "metadata": {
  "environment": {
   "kernel": "python3",
   "name": "common-cpu.m90",
   "type": "gcloud",
   "uri": "gcr.io/deeplearning-platform-release/base-cpu:m90"
  },
  "kernelspec": {
   "display_name": "Python 3",
   "language": "python",
   "name": "python3"
  },
  "language_info": {
   "codemirror_mode": {
    "name": "ipython",
    "version": 3
   },
   "file_extension": ".py",
   "mimetype": "text/x-python",
   "name": "python",
   "nbconvert_exporter": "python",
   "pygments_lexer": "ipython3",
   "version": "3.7.12"
  }
 },
 "nbformat": 4,
 "nbformat_minor": 5
}
